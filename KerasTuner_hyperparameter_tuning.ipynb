{
  "nbformat": 4,
  "nbformat_minor": 0,
  "metadata": {
    "colab": {
      "provenance": [],
      "authorship_tag": "ABX9TyNvu3XvkuwEsxiWlWWISj6j",
      "include_colab_link": true
    },
    "kernelspec": {
      "name": "python3",
      "display_name": "Python 3"
    },
    "language_info": {
      "name": "python"
    }
  },
  "cells": [
    {
      "cell_type": "markdown",
      "metadata": {
        "id": "view-in-github",
        "colab_type": "text"
      },
      "source": [
        "<a href=\"https://colab.research.google.com/github/BigyanBhatta/KerasTuner/blob/main/KerasTuner_hyperparameter_tuning.ipynb\" target=\"_parent\"><img src=\"https://colab.research.google.com/assets/colab-badge.svg\" alt=\"Open In Colab\"/></a>"
      ]
    },
    {
      "cell_type": "code",
      "source": [
        "pip install -U keras-tuner"
      ],
      "metadata": {
        "colab": {
          "base_uri": "https://localhost:8080/"
        },
        "id": "Qgj0VERoGWSw",
        "outputId": "023341fb-f8af-4d7b-c350-794479526642"
      },
      "execution_count": 3,
      "outputs": [
        {
          "output_type": "stream",
          "name": "stdout",
          "text": [
            "Collecting keras-tuner\n",
            "  Downloading keras_tuner-1.4.7-py3-none-any.whl (129 kB)\n",
            "\u001b[2K     \u001b[90m━━━━━━━━━━━━━━━━━━━━━━━━━━━━━━━━━━━━━━━━\u001b[0m \u001b[32m129.1/129.1 kB\u001b[0m \u001b[31m3.1 MB/s\u001b[0m eta \u001b[36m0:00:00\u001b[0m\n",
            "\u001b[?25hRequirement already satisfied: keras in /usr/local/lib/python3.10/dist-packages (from keras-tuner) (2.15.0)\n",
            "Requirement already satisfied: packaging in /usr/local/lib/python3.10/dist-packages (from keras-tuner) (24.0)\n",
            "Requirement already satisfied: requests in /usr/local/lib/python3.10/dist-packages (from keras-tuner) (2.31.0)\n",
            "Collecting kt-legacy (from keras-tuner)\n",
            "  Downloading kt_legacy-1.0.5-py3-none-any.whl (9.6 kB)\n",
            "Requirement already satisfied: charset-normalizer<4,>=2 in /usr/local/lib/python3.10/dist-packages (from requests->keras-tuner) (3.3.2)\n",
            "Requirement already satisfied: idna<4,>=2.5 in /usr/local/lib/python3.10/dist-packages (from requests->keras-tuner) (3.6)\n",
            "Requirement already satisfied: urllib3<3,>=1.21.1 in /usr/local/lib/python3.10/dist-packages (from requests->keras-tuner) (2.0.7)\n",
            "Requirement already satisfied: certifi>=2017.4.17 in /usr/local/lib/python3.10/dist-packages (from requests->keras-tuner) (2024.2.2)\n",
            "Installing collected packages: kt-legacy, keras-tuner\n",
            "Successfully installed keras-tuner-1.4.7 kt-legacy-1.0.5\n"
          ]
        }
      ]
    },
    {
      "cell_type": "code",
      "execution_count": 68,
      "metadata": {
        "id": "5TglCm9HBpS2"
      },
      "outputs": [],
      "source": [
        "import numpy as np\n",
        "import pandas as pd\n",
        "import matplotlib.pyplot as plt\n",
        "import warnings\n",
        "warnings.filterwarnings('ignore')\n",
        "\n",
        "from sklearn.model_selection import train_test_split\n",
        "from sklearn.preprocessing import StandardScaler\n",
        "\n",
        "import tensorflow\n",
        "from tensorflow import keras\n",
        "from keras import Sequential\n",
        "from keras.layers import Dense, Dropout\n",
        "from tensorflow.keras.layers import BatchNormalization\n",
        "from mlxtend.plotting import plot_decision_regions\n",
        "\n",
        "\n",
        "import kerastuner as kt\n"
      ]
    },
    {
      "cell_type": "code",
      "source": [
        "df = pd.read_csv('/content/diabetes.csv')"
      ],
      "metadata": {
        "id": "FU4AfUXTB9rh"
      },
      "execution_count": 11,
      "outputs": []
    },
    {
      "cell_type": "code",
      "source": [
        "df.head()"
      ],
      "metadata": {
        "colab": {
          "base_uri": "https://localhost:8080/",
          "height": 206
        },
        "id": "IVkuc4YbCqqF",
        "outputId": "b4c3c79e-9b8e-4c83-d4d1-8e0f03f5268a"
      },
      "execution_count": 12,
      "outputs": [
        {
          "output_type": "execute_result",
          "data": {
            "text/plain": [
              "   Pregnancies  Glucose  BloodPressure  SkinThickness  Insulin   BMI  \\\n",
              "0            6      148             72             35        0  33.6   \n",
              "1            1       85             66             29        0  26.6   \n",
              "2            8      183             64              0        0  23.3   \n",
              "3            1       89             66             23       94  28.1   \n",
              "4            0      137             40             35      168  43.1   \n",
              "\n",
              "   DiabetesPedigreeFunction  Age  Outcome  \n",
              "0                     0.627   50        1  \n",
              "1                     0.351   31        0  \n",
              "2                     0.672   32        1  \n",
              "3                     0.167   21        0  \n",
              "4                     2.288   33        1  "
            ],
            "text/html": [
              "\n",
              "  <div id=\"df-53d54d63-e122-42ba-953f-a62ac63f8996\" class=\"colab-df-container\">\n",
              "    <div>\n",
              "<style scoped>\n",
              "    .dataframe tbody tr th:only-of-type {\n",
              "        vertical-align: middle;\n",
              "    }\n",
              "\n",
              "    .dataframe tbody tr th {\n",
              "        vertical-align: top;\n",
              "    }\n",
              "\n",
              "    .dataframe thead th {\n",
              "        text-align: right;\n",
              "    }\n",
              "</style>\n",
              "<table border=\"1\" class=\"dataframe\">\n",
              "  <thead>\n",
              "    <tr style=\"text-align: right;\">\n",
              "      <th></th>\n",
              "      <th>Pregnancies</th>\n",
              "      <th>Glucose</th>\n",
              "      <th>BloodPressure</th>\n",
              "      <th>SkinThickness</th>\n",
              "      <th>Insulin</th>\n",
              "      <th>BMI</th>\n",
              "      <th>DiabetesPedigreeFunction</th>\n",
              "      <th>Age</th>\n",
              "      <th>Outcome</th>\n",
              "    </tr>\n",
              "  </thead>\n",
              "  <tbody>\n",
              "    <tr>\n",
              "      <th>0</th>\n",
              "      <td>6</td>\n",
              "      <td>148</td>\n",
              "      <td>72</td>\n",
              "      <td>35</td>\n",
              "      <td>0</td>\n",
              "      <td>33.6</td>\n",
              "      <td>0.627</td>\n",
              "      <td>50</td>\n",
              "      <td>1</td>\n",
              "    </tr>\n",
              "    <tr>\n",
              "      <th>1</th>\n",
              "      <td>1</td>\n",
              "      <td>85</td>\n",
              "      <td>66</td>\n",
              "      <td>29</td>\n",
              "      <td>0</td>\n",
              "      <td>26.6</td>\n",
              "      <td>0.351</td>\n",
              "      <td>31</td>\n",
              "      <td>0</td>\n",
              "    </tr>\n",
              "    <tr>\n",
              "      <th>2</th>\n",
              "      <td>8</td>\n",
              "      <td>183</td>\n",
              "      <td>64</td>\n",
              "      <td>0</td>\n",
              "      <td>0</td>\n",
              "      <td>23.3</td>\n",
              "      <td>0.672</td>\n",
              "      <td>32</td>\n",
              "      <td>1</td>\n",
              "    </tr>\n",
              "    <tr>\n",
              "      <th>3</th>\n",
              "      <td>1</td>\n",
              "      <td>89</td>\n",
              "      <td>66</td>\n",
              "      <td>23</td>\n",
              "      <td>94</td>\n",
              "      <td>28.1</td>\n",
              "      <td>0.167</td>\n",
              "      <td>21</td>\n",
              "      <td>0</td>\n",
              "    </tr>\n",
              "    <tr>\n",
              "      <th>4</th>\n",
              "      <td>0</td>\n",
              "      <td>137</td>\n",
              "      <td>40</td>\n",
              "      <td>35</td>\n",
              "      <td>168</td>\n",
              "      <td>43.1</td>\n",
              "      <td>2.288</td>\n",
              "      <td>33</td>\n",
              "      <td>1</td>\n",
              "    </tr>\n",
              "  </tbody>\n",
              "</table>\n",
              "</div>\n",
              "    <div class=\"colab-df-buttons\">\n",
              "\n",
              "  <div class=\"colab-df-container\">\n",
              "    <button class=\"colab-df-convert\" onclick=\"convertToInteractive('df-53d54d63-e122-42ba-953f-a62ac63f8996')\"\n",
              "            title=\"Convert this dataframe to an interactive table.\"\n",
              "            style=\"display:none;\">\n",
              "\n",
              "  <svg xmlns=\"http://www.w3.org/2000/svg\" height=\"24px\" viewBox=\"0 -960 960 960\">\n",
              "    <path d=\"M120-120v-720h720v720H120Zm60-500h600v-160H180v160Zm220 220h160v-160H400v160Zm0 220h160v-160H400v160ZM180-400h160v-160H180v160Zm440 0h160v-160H620v160ZM180-180h160v-160H180v160Zm440 0h160v-160H620v160Z\"/>\n",
              "  </svg>\n",
              "    </button>\n",
              "\n",
              "  <style>\n",
              "    .colab-df-container {\n",
              "      display:flex;\n",
              "      gap: 12px;\n",
              "    }\n",
              "\n",
              "    .colab-df-convert {\n",
              "      background-color: #E8F0FE;\n",
              "      border: none;\n",
              "      border-radius: 50%;\n",
              "      cursor: pointer;\n",
              "      display: none;\n",
              "      fill: #1967D2;\n",
              "      height: 32px;\n",
              "      padding: 0 0 0 0;\n",
              "      width: 32px;\n",
              "    }\n",
              "\n",
              "    .colab-df-convert:hover {\n",
              "      background-color: #E2EBFA;\n",
              "      box-shadow: 0px 1px 2px rgba(60, 64, 67, 0.3), 0px 1px 3px 1px rgba(60, 64, 67, 0.15);\n",
              "      fill: #174EA6;\n",
              "    }\n",
              "\n",
              "    .colab-df-buttons div {\n",
              "      margin-bottom: 4px;\n",
              "    }\n",
              "\n",
              "    [theme=dark] .colab-df-convert {\n",
              "      background-color: #3B4455;\n",
              "      fill: #D2E3FC;\n",
              "    }\n",
              "\n",
              "    [theme=dark] .colab-df-convert:hover {\n",
              "      background-color: #434B5C;\n",
              "      box-shadow: 0px 1px 3px 1px rgba(0, 0, 0, 0.15);\n",
              "      filter: drop-shadow(0px 1px 2px rgba(0, 0, 0, 0.3));\n",
              "      fill: #FFFFFF;\n",
              "    }\n",
              "  </style>\n",
              "\n",
              "    <script>\n",
              "      const buttonEl =\n",
              "        document.querySelector('#df-53d54d63-e122-42ba-953f-a62ac63f8996 button.colab-df-convert');\n",
              "      buttonEl.style.display =\n",
              "        google.colab.kernel.accessAllowed ? 'block' : 'none';\n",
              "\n",
              "      async function convertToInteractive(key) {\n",
              "        const element = document.querySelector('#df-53d54d63-e122-42ba-953f-a62ac63f8996');\n",
              "        const dataTable =\n",
              "          await google.colab.kernel.invokeFunction('convertToInteractive',\n",
              "                                                    [key], {});\n",
              "        if (!dataTable) return;\n",
              "\n",
              "        const docLinkHtml = 'Like what you see? Visit the ' +\n",
              "          '<a target=\"_blank\" href=https://colab.research.google.com/notebooks/data_table.ipynb>data table notebook</a>'\n",
              "          + ' to learn more about interactive tables.';\n",
              "        element.innerHTML = '';\n",
              "        dataTable['output_type'] = 'display_data';\n",
              "        await google.colab.output.renderOutput(dataTable, element);\n",
              "        const docLink = document.createElement('div');\n",
              "        docLink.innerHTML = docLinkHtml;\n",
              "        element.appendChild(docLink);\n",
              "      }\n",
              "    </script>\n",
              "  </div>\n",
              "\n",
              "\n",
              "<div id=\"df-ec6e2253-b783-43e5-a7a7-248b12ab74ab\">\n",
              "  <button class=\"colab-df-quickchart\" onclick=\"quickchart('df-ec6e2253-b783-43e5-a7a7-248b12ab74ab')\"\n",
              "            title=\"Suggest charts\"\n",
              "            style=\"display:none;\">\n",
              "\n",
              "<svg xmlns=\"http://www.w3.org/2000/svg\" height=\"24px\"viewBox=\"0 0 24 24\"\n",
              "     width=\"24px\">\n",
              "    <g>\n",
              "        <path d=\"M19 3H5c-1.1 0-2 .9-2 2v14c0 1.1.9 2 2 2h14c1.1 0 2-.9 2-2V5c0-1.1-.9-2-2-2zM9 17H7v-7h2v7zm4 0h-2V7h2v10zm4 0h-2v-4h2v4z\"/>\n",
              "    </g>\n",
              "</svg>\n",
              "  </button>\n",
              "\n",
              "<style>\n",
              "  .colab-df-quickchart {\n",
              "      --bg-color: #E8F0FE;\n",
              "      --fill-color: #1967D2;\n",
              "      --hover-bg-color: #E2EBFA;\n",
              "      --hover-fill-color: #174EA6;\n",
              "      --disabled-fill-color: #AAA;\n",
              "      --disabled-bg-color: #DDD;\n",
              "  }\n",
              "\n",
              "  [theme=dark] .colab-df-quickchart {\n",
              "      --bg-color: #3B4455;\n",
              "      --fill-color: #D2E3FC;\n",
              "      --hover-bg-color: #434B5C;\n",
              "      --hover-fill-color: #FFFFFF;\n",
              "      --disabled-bg-color: #3B4455;\n",
              "      --disabled-fill-color: #666;\n",
              "  }\n",
              "\n",
              "  .colab-df-quickchart {\n",
              "    background-color: var(--bg-color);\n",
              "    border: none;\n",
              "    border-radius: 50%;\n",
              "    cursor: pointer;\n",
              "    display: none;\n",
              "    fill: var(--fill-color);\n",
              "    height: 32px;\n",
              "    padding: 0;\n",
              "    width: 32px;\n",
              "  }\n",
              "\n",
              "  .colab-df-quickchart:hover {\n",
              "    background-color: var(--hover-bg-color);\n",
              "    box-shadow: 0 1px 2px rgba(60, 64, 67, 0.3), 0 1px 3px 1px rgba(60, 64, 67, 0.15);\n",
              "    fill: var(--button-hover-fill-color);\n",
              "  }\n",
              "\n",
              "  .colab-df-quickchart-complete:disabled,\n",
              "  .colab-df-quickchart-complete:disabled:hover {\n",
              "    background-color: var(--disabled-bg-color);\n",
              "    fill: var(--disabled-fill-color);\n",
              "    box-shadow: none;\n",
              "  }\n",
              "\n",
              "  .colab-df-spinner {\n",
              "    border: 2px solid var(--fill-color);\n",
              "    border-color: transparent;\n",
              "    border-bottom-color: var(--fill-color);\n",
              "    animation:\n",
              "      spin 1s steps(1) infinite;\n",
              "  }\n",
              "\n",
              "  @keyframes spin {\n",
              "    0% {\n",
              "      border-color: transparent;\n",
              "      border-bottom-color: var(--fill-color);\n",
              "      border-left-color: var(--fill-color);\n",
              "    }\n",
              "    20% {\n",
              "      border-color: transparent;\n",
              "      border-left-color: var(--fill-color);\n",
              "      border-top-color: var(--fill-color);\n",
              "    }\n",
              "    30% {\n",
              "      border-color: transparent;\n",
              "      border-left-color: var(--fill-color);\n",
              "      border-top-color: var(--fill-color);\n",
              "      border-right-color: var(--fill-color);\n",
              "    }\n",
              "    40% {\n",
              "      border-color: transparent;\n",
              "      border-right-color: var(--fill-color);\n",
              "      border-top-color: var(--fill-color);\n",
              "    }\n",
              "    60% {\n",
              "      border-color: transparent;\n",
              "      border-right-color: var(--fill-color);\n",
              "    }\n",
              "    80% {\n",
              "      border-color: transparent;\n",
              "      border-right-color: var(--fill-color);\n",
              "      border-bottom-color: var(--fill-color);\n",
              "    }\n",
              "    90% {\n",
              "      border-color: transparent;\n",
              "      border-bottom-color: var(--fill-color);\n",
              "    }\n",
              "  }\n",
              "</style>\n",
              "\n",
              "  <script>\n",
              "    async function quickchart(key) {\n",
              "      const quickchartButtonEl =\n",
              "        document.querySelector('#' + key + ' button');\n",
              "      quickchartButtonEl.disabled = true;  // To prevent multiple clicks.\n",
              "      quickchartButtonEl.classList.add('colab-df-spinner');\n",
              "      try {\n",
              "        const charts = await google.colab.kernel.invokeFunction(\n",
              "            'suggestCharts', [key], {});\n",
              "      } catch (error) {\n",
              "        console.error('Error during call to suggestCharts:', error);\n",
              "      }\n",
              "      quickchartButtonEl.classList.remove('colab-df-spinner');\n",
              "      quickchartButtonEl.classList.add('colab-df-quickchart-complete');\n",
              "    }\n",
              "    (() => {\n",
              "      let quickchartButtonEl =\n",
              "        document.querySelector('#df-ec6e2253-b783-43e5-a7a7-248b12ab74ab button');\n",
              "      quickchartButtonEl.style.display =\n",
              "        google.colab.kernel.accessAllowed ? 'block' : 'none';\n",
              "    })();\n",
              "  </script>\n",
              "</div>\n",
              "\n",
              "    </div>\n",
              "  </div>\n"
            ],
            "application/vnd.google.colaboratory.intrinsic+json": {
              "type": "dataframe",
              "variable_name": "df",
              "summary": "{\n  \"name\": \"df\",\n  \"rows\": 768,\n  \"fields\": [\n    {\n      \"column\": \"Pregnancies\",\n      \"properties\": {\n        \"dtype\": \"number\",\n        \"std\": 3,\n        \"min\": 0,\n        \"max\": 17,\n        \"num_unique_values\": 17,\n        \"samples\": [\n          6,\n          1,\n          3\n        ],\n        \"semantic_type\": \"\",\n        \"description\": \"\"\n      }\n    },\n    {\n      \"column\": \"Glucose\",\n      \"properties\": {\n        \"dtype\": \"number\",\n        \"std\": 31,\n        \"min\": 0,\n        \"max\": 199,\n        \"num_unique_values\": 136,\n        \"samples\": [\n          151,\n          101,\n          112\n        ],\n        \"semantic_type\": \"\",\n        \"description\": \"\"\n      }\n    },\n    {\n      \"column\": \"BloodPressure\",\n      \"properties\": {\n        \"dtype\": \"number\",\n        \"std\": 19,\n        \"min\": 0,\n        \"max\": 122,\n        \"num_unique_values\": 47,\n        \"samples\": [\n          86,\n          46,\n          85\n        ],\n        \"semantic_type\": \"\",\n        \"description\": \"\"\n      }\n    },\n    {\n      \"column\": \"SkinThickness\",\n      \"properties\": {\n        \"dtype\": \"number\",\n        \"std\": 15,\n        \"min\": 0,\n        \"max\": 99,\n        \"num_unique_values\": 51,\n        \"samples\": [\n          7,\n          12,\n          48\n        ],\n        \"semantic_type\": \"\",\n        \"description\": \"\"\n      }\n    },\n    {\n      \"column\": \"Insulin\",\n      \"properties\": {\n        \"dtype\": \"number\",\n        \"std\": 115,\n        \"min\": 0,\n        \"max\": 846,\n        \"num_unique_values\": 186,\n        \"samples\": [\n          52,\n          41,\n          183\n        ],\n        \"semantic_type\": \"\",\n        \"description\": \"\"\n      }\n    },\n    {\n      \"column\": \"BMI\",\n      \"properties\": {\n        \"dtype\": \"number\",\n        \"std\": 7.884160320375446,\n        \"min\": 0.0,\n        \"max\": 67.1,\n        \"num_unique_values\": 248,\n        \"samples\": [\n          19.9,\n          31.0,\n          38.1\n        ],\n        \"semantic_type\": \"\",\n        \"description\": \"\"\n      }\n    },\n    {\n      \"column\": \"DiabetesPedigreeFunction\",\n      \"properties\": {\n        \"dtype\": \"number\",\n        \"std\": 0.3313285950127749,\n        \"min\": 0.078,\n        \"max\": 2.42,\n        \"num_unique_values\": 517,\n        \"samples\": [\n          1.731,\n          0.426,\n          0.138\n        ],\n        \"semantic_type\": \"\",\n        \"description\": \"\"\n      }\n    },\n    {\n      \"column\": \"Age\",\n      \"properties\": {\n        \"dtype\": \"number\",\n        \"std\": 11,\n        \"min\": 21,\n        \"max\": 81,\n        \"num_unique_values\": 52,\n        \"samples\": [\n          60,\n          47,\n          72\n        ],\n        \"semantic_type\": \"\",\n        \"description\": \"\"\n      }\n    },\n    {\n      \"column\": \"Outcome\",\n      \"properties\": {\n        \"dtype\": \"number\",\n        \"std\": 0,\n        \"min\": 0,\n        \"max\": 1,\n        \"num_unique_values\": 2,\n        \"samples\": [\n          0,\n          1\n        ],\n        \"semantic_type\": \"\",\n        \"description\": \"\"\n      }\n    }\n  ]\n}"
            }
          },
          "metadata": {},
          "execution_count": 12
        }
      ]
    },
    {
      "cell_type": "code",
      "source": [
        "df.info()"
      ],
      "metadata": {
        "colab": {
          "base_uri": "https://localhost:8080/"
        },
        "id": "rhKsQLNGCrXw",
        "outputId": "3252ba09-4c8d-4eb2-f9c5-6e86ce426699"
      },
      "execution_count": 13,
      "outputs": [
        {
          "output_type": "stream",
          "name": "stdout",
          "text": [
            "<class 'pandas.core.frame.DataFrame'>\n",
            "RangeIndex: 768 entries, 0 to 767\n",
            "Data columns (total 9 columns):\n",
            " #   Column                    Non-Null Count  Dtype  \n",
            "---  ------                    --------------  -----  \n",
            " 0   Pregnancies               768 non-null    int64  \n",
            " 1   Glucose                   768 non-null    int64  \n",
            " 2   BloodPressure             768 non-null    int64  \n",
            " 3   SkinThickness             768 non-null    int64  \n",
            " 4   Insulin                   768 non-null    int64  \n",
            " 5   BMI                       768 non-null    float64\n",
            " 6   DiabetesPedigreeFunction  768 non-null    float64\n",
            " 7   Age                       768 non-null    int64  \n",
            " 8   Outcome                   768 non-null    int64  \n",
            "dtypes: float64(2), int64(7)\n",
            "memory usage: 54.1 KB\n"
          ]
        }
      ]
    },
    {
      "cell_type": "code",
      "source": [
        "df.corr()['Outcome']"
      ],
      "metadata": {
        "colab": {
          "base_uri": "https://localhost:8080/"
        },
        "id": "6Yy-lxRICwCG",
        "outputId": "d14f11f0-740d-49ae-caef-7ebc49384137"
      },
      "execution_count": 14,
      "outputs": [
        {
          "output_type": "execute_result",
          "data": {
            "text/plain": [
              "Pregnancies                 0.221898\n",
              "Glucose                     0.466581\n",
              "BloodPressure               0.065068\n",
              "SkinThickness               0.074752\n",
              "Insulin                     0.130548\n",
              "BMI                         0.292695\n",
              "DiabetesPedigreeFunction    0.173844\n",
              "Age                         0.238356\n",
              "Outcome                     1.000000\n",
              "Name: Outcome, dtype: float64"
            ]
          },
          "metadata": {},
          "execution_count": 14
        }
      ]
    },
    {
      "cell_type": "code",
      "source": [
        "X = df.iloc[:, :-1].values"
      ],
      "metadata": {
        "id": "h-9QdzwNC2BG"
      },
      "execution_count": 15,
      "outputs": []
    },
    {
      "cell_type": "code",
      "source": [
        "y = df.iloc[: , -1].values"
      ],
      "metadata": {
        "id": "a0fPdfAlDi_H"
      },
      "execution_count": 16,
      "outputs": []
    },
    {
      "cell_type": "code",
      "source": [
        "scaler = StandardScaler()\n",
        "X = scaler.fit_transform(X)\n"
      ],
      "metadata": {
        "id": "RYY16TQqEKzq"
      },
      "execution_count": 17,
      "outputs": []
    },
    {
      "cell_type": "code",
      "source": [
        "X_train, X_test, y_train, y_test = train_test_split(X, y, test_size = 0.2, random_state = 1)\n"
      ],
      "metadata": {
        "id": "fhIJcxTwDs_R"
      },
      "execution_count": 18,
      "outputs": []
    },
    {
      "cell_type": "code",
      "source": [
        "model = Sequential()\n",
        "model.add(Dense(32, activation = 'relu', input_dim = 8))\n",
        "model.add(Dense(1, activation = 'sigmoid'))\n",
        "\n",
        "model.compile(loss = 'binary_crossentropy', optimizer = 'adam', metrics = ['accuracy'])\n"
      ],
      "metadata": {
        "id": "OPCIEQACDwii"
      },
      "execution_count": 19,
      "outputs": []
    },
    {
      "cell_type": "code",
      "source": [
        "model.fit(X_train, y_train, validation_data = (X_test, y_test), epochs = 100, batch_size = 32, verbose = False)"
      ],
      "metadata": {
        "colab": {
          "base_uri": "https://localhost:8080/"
        },
        "id": "xmeN4C-8E2eX",
        "outputId": "cbd4dd56-1a59-470b-de88-b8a7941aa707"
      },
      "execution_count": 20,
      "outputs": [
        {
          "output_type": "execute_result",
          "data": {
            "text/plain": [
              "<keras.src.callbacks.History at 0x7f5308fd70a0>"
            ]
          },
          "metadata": {},
          "execution_count": 20
        }
      ]
    },
    {
      "cell_type": "code",
      "source": [
        "def build_model(hp):\n",
        "  model = Sequential()\n",
        "  model.add(Dense(32, activation = 'relu', input_dim = 8))\n",
        "  model.add(Dense(1, activation = 'sigmoid'))\n",
        "\n",
        "  model.compile(optimizer = hp.Choice('optimizer', values = ['adam', 'sgd', 'rmsprop', 'adadelta']), loss = 'binary_crossentropy', metrics = ['accuracy'])\n",
        "\n",
        "  return model\n",
        "\n"
      ],
      "metadata": {
        "id": "MAUviSFUE3Qe"
      },
      "execution_count": 21,
      "outputs": []
    },
    {
      "cell_type": "code",
      "source": [
        "tuner = kt.RandomSearch(\n",
        "    hypermodel=build_model,\n",
        "    objective=\"val_accuracy\",\n",
        "    max_trials=5,\n",
        ")"
      ],
      "metadata": {
        "id": "s_aePoU1IKlk"
      },
      "execution_count": 22,
      "outputs": []
    },
    {
      "cell_type": "code",
      "source": [
        "tuner.search(X_train, y_train, epochs = 5, validation_data = (X_test, y_test))"
      ],
      "metadata": {
        "id": "KlSwaZChIpsh",
        "colab": {
          "base_uri": "https://localhost:8080/"
        },
        "outputId": "ec018827-75af-45fa-ddd1-770617ec0ad9"
      },
      "execution_count": 23,
      "outputs": [
        {
          "output_type": "stream",
          "name": "stdout",
          "text": [
            "Trial 4 Complete [00h 00m 01s]\n",
            "val_accuracy: 0.7662337422370911\n",
            "\n",
            "Best val_accuracy So Far: 0.7662337422370911\n",
            "Total elapsed time: 00h 00m 06s\n"
          ]
        }
      ]
    },
    {
      "cell_type": "code",
      "source": [
        "tuner.get_best_hyperparameters()[0].values\n"
      ],
      "metadata": {
        "colab": {
          "base_uri": "https://localhost:8080/"
        },
        "id": "ErjBEqgaJtxl",
        "outputId": "5b02ace7-60e0-4b97-87ee-f415d24d1c64"
      },
      "execution_count": 24,
      "outputs": [
        {
          "output_type": "execute_result",
          "data": {
            "text/plain": [
              "{'optimizer': 'sgd'}"
            ]
          },
          "metadata": {},
          "execution_count": 24
        }
      ]
    },
    {
      "cell_type": "code",
      "source": [
        "model = tuner.get_best_models(num_models= 1)[0]"
      ],
      "metadata": {
        "id": "NAprB5noJ-xy"
      },
      "execution_count": 25,
      "outputs": []
    },
    {
      "cell_type": "code",
      "source": [
        "model.summary()"
      ],
      "metadata": {
        "colab": {
          "base_uri": "https://localhost:8080/"
        },
        "id": "OzBMa9-pKaNn",
        "outputId": "3ac004e7-3eb1-4e0b-cec4-73925863c05d"
      },
      "execution_count": 26,
      "outputs": [
        {
          "output_type": "stream",
          "name": "stdout",
          "text": [
            "Model: \"sequential\"\n",
            "_________________________________________________________________\n",
            " Layer (type)                Output Shape              Param #   \n",
            "=================================================================\n",
            " dense (Dense)               (None, 32)                288       \n",
            "                                                                 \n",
            " dense_1 (Dense)             (None, 1)                 33        \n",
            "                                                                 \n",
            "=================================================================\n",
            "Total params: 321 (1.25 KB)\n",
            "Trainable params: 321 (1.25 KB)\n",
            "Non-trainable params: 0 (0.00 Byte)\n",
            "_________________________________________________________________\n"
          ]
        }
      ]
    },
    {
      "cell_type": "code",
      "source": [
        "model.fit(X_train, y_train, epochs = 100, batch_size = 32, initial_epoch= 5, validation_data = (X_test, y_test), verbose = False)\n"
      ],
      "metadata": {
        "colab": {
          "base_uri": "https://localhost:8080/"
        },
        "id": "LLPjC0O6Khib",
        "outputId": "1cf21b21-381e-4533-d002-d801db5347ea"
      },
      "execution_count": 27,
      "outputs": [
        {
          "output_type": "execute_result",
          "data": {
            "text/plain": [
              "<keras.src.callbacks.History at 0x7f53098dd720>"
            ]
          },
          "metadata": {},
          "execution_count": 27
        }
      ]
    },
    {
      "cell_type": "code",
      "source": [
        "def build_model(hp):\n",
        "  model = Sequential()\n",
        "  unit = hp.Int('units',min_value = 8,max_value =  128, step = 8)\n",
        "  model.add(Dense(unit, activation = 'relu', input_dim = 8))\n",
        "  model.add(Dense(1, activation = 'sigmoid'))\n",
        "\n",
        "  model.compile(optimizer = 'rmsprop', loss = 'binary_crossentropy', metrics = ['accuracy'])\n",
        "  return model\n"
      ],
      "metadata": {
        "id": "CaEBkjbHK6jW"
      },
      "execution_count": 28,
      "outputs": []
    },
    {
      "cell_type": "code",
      "source": [
        "tuner = kt.RandomSearch(\n",
        "    hypermodel = build_model,\n",
        "    objective = 'val_accuracy',\n",
        "    max_trials = 5,\n",
        "    directory = 'mydir'\n",
        ")"
      ],
      "metadata": {
        "id": "uwTbxpGbfktE"
      },
      "execution_count": 41,
      "outputs": []
    },
    {
      "cell_type": "code",
      "source": [
        "tuner.search(X_train, y_train, epochs = 5, validation_data = (X_test, y_test))"
      ],
      "metadata": {
        "colab": {
          "base_uri": "https://localhost:8080/"
        },
        "id": "85TBriL1gZ2k",
        "outputId": "39b08557-b012-4d99-fd0e-279fdb001e8a"
      },
      "execution_count": 42,
      "outputs": [
        {
          "output_type": "stream",
          "name": "stdout",
          "text": [
            "Trial 5 Complete [00h 00m 01s]\n",
            "val_accuracy: 0.7922077775001526\n",
            "\n",
            "Best val_accuracy So Far: 0.7922077775001526\n",
            "Total elapsed time: 00h 00m 08s\n"
          ]
        }
      ]
    },
    {
      "cell_type": "code",
      "source": [
        "tuner.get_best_hyperparameters()[0].values"
      ],
      "metadata": {
        "colab": {
          "base_uri": "https://localhost:8080/"
        },
        "id": "WHtMpfCKhcRS",
        "outputId": "b2d82f0d-f567-42a0-8f88-18a2e75224bd"
      },
      "execution_count": 43,
      "outputs": [
        {
          "output_type": "execute_result",
          "data": {
            "text/plain": [
              "{'units': 128}"
            ]
          },
          "metadata": {},
          "execution_count": 43
        }
      ]
    },
    {
      "cell_type": "code",
      "source": [
        "model = tuner.get_best_models(num_models = 1)[0]"
      ],
      "metadata": {
        "id": "F75mlaZcgpDi"
      },
      "execution_count": 44,
      "outputs": []
    },
    {
      "cell_type": "code",
      "source": [
        "model.fit(X_train, y_train, epochs = 100, initial_epoch = 5, validation_data = (X_test, y_test), verbose = False)"
      ],
      "metadata": {
        "colab": {
          "base_uri": "https://localhost:8080/"
        },
        "id": "sJcV4hbuid_N",
        "outputId": "ef2a20ba-97db-49b6-92ae-e5e4c9c10275"
      },
      "execution_count": 47,
      "outputs": [
        {
          "output_type": "execute_result",
          "data": {
            "text/plain": [
              "<keras.src.callbacks.History at 0x7f5308d1f820>"
            ]
          },
          "metadata": {},
          "execution_count": 47
        }
      ]
    },
    {
      "cell_type": "code",
      "source": [
        "def build_model(hp):\n",
        "  model = Sequential()\n",
        "  model.add(Dense(128, activation = 'relu', input_dim = 8))\n",
        "\n",
        "  for i in range(hp.Int('num_layers', min_value = 1, max_value = 10)):\n",
        "    model.add(Dense(128, activation = 'relu'))\n",
        "\n",
        "  model.add(Dense(1, activation = 'sigmoid'))\n",
        "  model.compile(optimizer = 'rmsprop', loss = 'binary_crossentropy', metrics = ['accuracy'])\n",
        "\n",
        "  return model\n"
      ],
      "metadata": {
        "id": "EWbl0vzdin1b"
      },
      "execution_count": 49,
      "outputs": []
    },
    {
      "cell_type": "code",
      "source": [
        "tuner = kt.RandomSearch(hypermodel = build_model,\n",
        "                        objective = 'val_accuracy',\n",
        "                        max_trials = 3,\n",
        "                        directory = 'mydir',\n",
        "                        project_name = 'NumLayers')"
      ],
      "metadata": {
        "id": "SB59zh-1jDs9"
      },
      "execution_count": 50,
      "outputs": []
    },
    {
      "cell_type": "code",
      "source": [
        "tuner.search(X_train,y_train, validation_data = (X_test, y_test), epochs = 5)"
      ],
      "metadata": {
        "colab": {
          "base_uri": "https://localhost:8080/"
        },
        "id": "f-7Itf8skVkg",
        "outputId": "deab0d48-78da-41fa-df03-6345833b5f8c"
      },
      "execution_count": 51,
      "outputs": [
        {
          "output_type": "stream",
          "name": "stdout",
          "text": [
            "Trial 3 Complete [00h 00m 03s]\n",
            "val_accuracy: 0.798701286315918\n",
            "\n",
            "Best val_accuracy So Far: 0.8116883039474487\n",
            "Total elapsed time: 00h 00m 22s\n"
          ]
        }
      ]
    },
    {
      "cell_type": "code",
      "source": [
        "tuner.get_best_hyperparameters()[0].values"
      ],
      "metadata": {
        "colab": {
          "base_uri": "https://localhost:8080/"
        },
        "id": "YM60KTM8kewi",
        "outputId": "2799bd23-462c-4ef1-fb12-6d81eff21d7b"
      },
      "execution_count": 52,
      "outputs": [
        {
          "output_type": "execute_result",
          "data": {
            "text/plain": [
              "{'num_layers': 2}"
            ]
          },
          "metadata": {},
          "execution_count": 52
        }
      ]
    },
    {
      "cell_type": "code",
      "source": [
        "model = tuner.get_best_models(num_models = 1)[0]"
      ],
      "metadata": {
        "id": "KRI4Nzjvkoql"
      },
      "execution_count": 53,
      "outputs": []
    },
    {
      "cell_type": "code",
      "source": [
        "model.fit(X_train, y_train, epochs = 100, initial_epoch = 5, validation_data = (X_test, y_test), verbose = False)"
      ],
      "metadata": {
        "colab": {
          "base_uri": "https://localhost:8080/"
        },
        "id": "IxGE8ohpkuuU",
        "outputId": "0f5b3afd-839d-42f4-ea6a-a3d0f2748215"
      },
      "execution_count": 55,
      "outputs": [
        {
          "output_type": "execute_result",
          "data": {
            "text/plain": [
              "<keras.src.callbacks.History at 0x7f53091d4d30>"
            ]
          },
          "metadata": {},
          "execution_count": 55
        }
      ]
    },
    {
      "cell_type": "code",
      "source": [
        "def build_model(hp):\n",
        "  model = Sequential()\n",
        "  counter = 0\n",
        "  for i in range(hp.Int('num_layers', min_value =1, max_value = 10)):\n",
        "    if counter == 0:\n",
        "      model.add(Dense(hp.Int('units' + str(i), min_value= 8 , max_value = 128, step = 8), activation = hp.Choice('activation' + str(i), values= ['relu', 'elu', 'tanh']), input_dim = 8))\n",
        "      model.add(Dropout(hp.Choice('dropout' + str(i), values = [0.1, 0.2, 0.3, 0.4, 0.5, 0.6, 0.7, 0.8, 0.9])))\n",
        "\n",
        "    else:\n",
        "      model.add(Dense(hp.Int('units' + str(i), min_value= 8 , max_value = 128, step = 8), activation = hp.Choice('activation' + str(i), values = ['relu', 'elu', 'tanh'])))\n",
        "      model.add(Dropout(hp.Choice('dropout' + str(i), values = [0.1, 0.2, 0.3, 0.4, 0.5, 0.6, 0.7, 0.8, 0.9])))\n",
        "\n",
        "    counter += 1\n",
        "\n",
        "  model.add(Dense(1, activation = 'sigmoid'))\n",
        "\n",
        "  model.compile(optimizer = hp.Choice('optimizer', values = ['rmsprop', 'adam', 'adadelta']), loss = 'binary_crossentropy', metrics = ['accuracy'])\n",
        "\n",
        "  return model\n",
        "\n",
        "\n",
        "\n",
        "\n"
      ],
      "metadata": {
        "id": "Eku0iA17k9oq"
      },
      "execution_count": 74,
      "outputs": []
    },
    {
      "cell_type": "code",
      "source": [
        "tuner = kt.RandomSearch(hypermodel = build_model,\n",
        "                        objective = 'val_accuracy',\n",
        "                        max_trials = 3,\n",
        "                        directory = 'mydir',\n",
        "                        project_name = 'final')"
      ],
      "metadata": {
        "colab": {
          "base_uri": "https://localhost:8080/"
        },
        "id": "9JJ_kqNun7-U",
        "outputId": "062ea589-8651-434e-d837-ffb0535a91f2"
      },
      "execution_count": 75,
      "outputs": [
        {
          "output_type": "stream",
          "name": "stdout",
          "text": [
            "Reloading Tuner from mydir/final/tuner0.json\n"
          ]
        }
      ]
    },
    {
      "cell_type": "code",
      "source": [
        "tuner.search(X_train, y_train, epochs = 5, validation_data = (X_test, y_test))"
      ],
      "metadata": {
        "id": "mOdMUp7poeEY"
      },
      "execution_count": 76,
      "outputs": []
    },
    {
      "cell_type": "code",
      "source": [
        "tuner.get_best_hyperparameters()[0].values"
      ],
      "metadata": {
        "colab": {
          "base_uri": "https://localhost:8080/"
        },
        "id": "vlvwDXNjo6nY",
        "outputId": "897a1d5b-504a-4863-c0b6-17e2302d2bfb"
      },
      "execution_count": 80,
      "outputs": [
        {
          "output_type": "execute_result",
          "data": {
            "text/plain": [
              "{'num_layers': 3,\n",
              " 'units0': 120,\n",
              " 'activation0': 'elu',\n",
              " 'optimizer': 'rmsprop',\n",
              " 'units1': 128,\n",
              " 'activation1': 'elu',\n",
              " 'units2': 96,\n",
              " 'activation2': 'elu',\n",
              " 'units3': 40,\n",
              " 'activation3': 'relu',\n",
              " 'units4': 104,\n",
              " 'activation4': 'elu',\n",
              " 'units5': 80,\n",
              " 'activation5': 'relu',\n",
              " 'units6': 72,\n",
              " 'activation6': 'tanh',\n",
              " 'units7': 56,\n",
              " 'activation7': 'elu',\n",
              " 'units8': 112,\n",
              " 'activation8': 'tanh',\n",
              " 'dropout0': 0.1,\n",
              " 'dropout1': 0.1,\n",
              " 'dropout2': 0.1}"
            ]
          },
          "metadata": {},
          "execution_count": 80
        }
      ]
    },
    {
      "cell_type": "code",
      "source": [
        "model = tuner.get_best_models(num_models = 1)[0]\n"
      ],
      "metadata": {
        "id": "tOg0AA1wpAlM"
      },
      "execution_count": 81,
      "outputs": []
    },
    {
      "cell_type": "code",
      "source": [
        "model.fit(X_train, y_train, epochs = 200, initial_epoch = 5, validation_data = (X_test, y_test))"
      ],
      "metadata": {
        "colab": {
          "base_uri": "https://localhost:8080/"
        },
        "id": "VD2pmaBnpfOQ",
        "outputId": "4ea69296-1c89-40e6-bd85-9e5061a20fb8"
      },
      "execution_count": 82,
      "outputs": [
        {
          "output_type": "stream",
          "name": "stdout",
          "text": [
            "Epoch 6/200\n",
            "20/20 [==============================] - 1s 14ms/step - loss: 0.4743 - accuracy: 0.7752 - val_loss: 0.4494 - val_accuracy: 0.7792\n",
            "Epoch 7/200\n",
            "20/20 [==============================] - 0s 5ms/step - loss: 0.4681 - accuracy: 0.7622 - val_loss: 0.4476 - val_accuracy: 0.8052\n",
            "Epoch 8/200\n",
            "20/20 [==============================] - 0s 4ms/step - loss: 0.4685 - accuracy: 0.7671 - val_loss: 0.4503 - val_accuracy: 0.8052\n",
            "Epoch 9/200\n",
            "20/20 [==============================] - 0s 5ms/step - loss: 0.4700 - accuracy: 0.7785 - val_loss: 0.4754 - val_accuracy: 0.8052\n",
            "Epoch 10/200\n",
            "20/20 [==============================] - 0s 4ms/step - loss: 0.4644 - accuracy: 0.7687 - val_loss: 0.4668 - val_accuracy: 0.8117\n",
            "Epoch 11/200\n",
            "20/20 [==============================] - 0s 4ms/step - loss: 0.4638 - accuracy: 0.7785 - val_loss: 0.4967 - val_accuracy: 0.7857\n",
            "Epoch 12/200\n",
            "20/20 [==============================] - 0s 5ms/step - loss: 0.4675 - accuracy: 0.7606 - val_loss: 0.4634 - val_accuracy: 0.8052\n",
            "Epoch 13/200\n",
            "20/20 [==============================] - 0s 5ms/step - loss: 0.4676 - accuracy: 0.7752 - val_loss: 0.4694 - val_accuracy: 0.8377\n",
            "Epoch 14/200\n",
            "20/20 [==============================] - 0s 4ms/step - loss: 0.4632 - accuracy: 0.7801 - val_loss: 0.4565 - val_accuracy: 0.8377\n",
            "Epoch 15/200\n",
            "20/20 [==============================] - 0s 4ms/step - loss: 0.4604 - accuracy: 0.7671 - val_loss: 0.4694 - val_accuracy: 0.7662\n",
            "Epoch 16/200\n",
            "20/20 [==============================] - 0s 4ms/step - loss: 0.4651 - accuracy: 0.7752 - val_loss: 0.4475 - val_accuracy: 0.8117\n",
            "Epoch 17/200\n",
            "20/20 [==============================] - 0s 5ms/step - loss: 0.4668 - accuracy: 0.7557 - val_loss: 0.4480 - val_accuracy: 0.8247\n",
            "Epoch 18/200\n",
            "20/20 [==============================] - 0s 4ms/step - loss: 0.4693 - accuracy: 0.7557 - val_loss: 0.4621 - val_accuracy: 0.8377\n",
            "Epoch 19/200\n",
            "20/20 [==============================] - 0s 5ms/step - loss: 0.4600 - accuracy: 0.7704 - val_loss: 0.4399 - val_accuracy: 0.7922\n",
            "Epoch 20/200\n",
            "20/20 [==============================] - 0s 5ms/step - loss: 0.4623 - accuracy: 0.7834 - val_loss: 0.4625 - val_accuracy: 0.8052\n",
            "Epoch 21/200\n",
            "20/20 [==============================] - 0s 4ms/step - loss: 0.4529 - accuracy: 0.7818 - val_loss: 0.4414 - val_accuracy: 0.7727\n",
            "Epoch 22/200\n",
            "20/20 [==============================] - 0s 4ms/step - loss: 0.4554 - accuracy: 0.7769 - val_loss: 0.4714 - val_accuracy: 0.8247\n",
            "Epoch 23/200\n",
            "20/20 [==============================] - 0s 4ms/step - loss: 0.4518 - accuracy: 0.7752 - val_loss: 0.4644 - val_accuracy: 0.8247\n",
            "Epoch 24/200\n",
            "20/20 [==============================] - 0s 5ms/step - loss: 0.4549 - accuracy: 0.7752 - val_loss: 0.4658 - val_accuracy: 0.8312\n",
            "Epoch 25/200\n",
            "20/20 [==============================] - 0s 5ms/step - loss: 0.4453 - accuracy: 0.7801 - val_loss: 0.4430 - val_accuracy: 0.7857\n",
            "Epoch 26/200\n",
            "20/20 [==============================] - 0s 4ms/step - loss: 0.4676 - accuracy: 0.7606 - val_loss: 0.4594 - val_accuracy: 0.8182\n",
            "Epoch 27/200\n",
            "20/20 [==============================] - 0s 4ms/step - loss: 0.4479 - accuracy: 0.7720 - val_loss: 0.4517 - val_accuracy: 0.7987\n",
            "Epoch 28/200\n",
            "20/20 [==============================] - 0s 4ms/step - loss: 0.4478 - accuracy: 0.7818 - val_loss: 0.4541 - val_accuracy: 0.7922\n",
            "Epoch 29/200\n",
            "20/20 [==============================] - 0s 4ms/step - loss: 0.4469 - accuracy: 0.7704 - val_loss: 0.4453 - val_accuracy: 0.8312\n",
            "Epoch 30/200\n",
            "20/20 [==============================] - 0s 4ms/step - loss: 0.4562 - accuracy: 0.7704 - val_loss: 0.4528 - val_accuracy: 0.7987\n",
            "Epoch 31/200\n",
            "20/20 [==============================] - 0s 5ms/step - loss: 0.4508 - accuracy: 0.7687 - val_loss: 0.4428 - val_accuracy: 0.7922\n",
            "Epoch 32/200\n",
            "20/20 [==============================] - 0s 5ms/step - loss: 0.4456 - accuracy: 0.7801 - val_loss: 0.4608 - val_accuracy: 0.7792\n",
            "Epoch 33/200\n",
            "20/20 [==============================] - 0s 4ms/step - loss: 0.4451 - accuracy: 0.7899 - val_loss: 0.4517 - val_accuracy: 0.8052\n",
            "Epoch 34/200\n",
            "20/20 [==============================] - 0s 4ms/step - loss: 0.4525 - accuracy: 0.7899 - val_loss: 0.4964 - val_accuracy: 0.8182\n",
            "Epoch 35/200\n",
            "20/20 [==============================] - 0s 4ms/step - loss: 0.4518 - accuracy: 0.7883 - val_loss: 0.4412 - val_accuracy: 0.7987\n",
            "Epoch 36/200\n",
            "20/20 [==============================] - 0s 4ms/step - loss: 0.4500 - accuracy: 0.7785 - val_loss: 0.4517 - val_accuracy: 0.8117\n",
            "Epoch 37/200\n",
            "20/20 [==============================] - 0s 4ms/step - loss: 0.4425 - accuracy: 0.7932 - val_loss: 0.4537 - val_accuracy: 0.7922\n",
            "Epoch 38/200\n",
            "20/20 [==============================] - 0s 4ms/step - loss: 0.4471 - accuracy: 0.7866 - val_loss: 0.4394 - val_accuracy: 0.8182\n",
            "Epoch 39/200\n",
            "20/20 [==============================] - 0s 4ms/step - loss: 0.4480 - accuracy: 0.7752 - val_loss: 0.4568 - val_accuracy: 0.7987\n",
            "Epoch 40/200\n",
            "20/20 [==============================] - 0s 4ms/step - loss: 0.4396 - accuracy: 0.7948 - val_loss: 0.4598 - val_accuracy: 0.8052\n",
            "Epoch 41/200\n",
            "20/20 [==============================] - 0s 4ms/step - loss: 0.4475 - accuracy: 0.7866 - val_loss: 0.4318 - val_accuracy: 0.7987\n",
            "Epoch 42/200\n",
            "20/20 [==============================] - 0s 4ms/step - loss: 0.4406 - accuracy: 0.7834 - val_loss: 0.4552 - val_accuracy: 0.8247\n",
            "Epoch 43/200\n",
            "20/20 [==============================] - 0s 4ms/step - loss: 0.4494 - accuracy: 0.7850 - val_loss: 0.4725 - val_accuracy: 0.8182\n",
            "Epoch 44/200\n",
            "20/20 [==============================] - 0s 5ms/step - loss: 0.4463 - accuracy: 0.7850 - val_loss: 0.4443 - val_accuracy: 0.8312\n",
            "Epoch 45/200\n",
            "20/20 [==============================] - 0s 4ms/step - loss: 0.4424 - accuracy: 0.7866 - val_loss: 0.4383 - val_accuracy: 0.8182\n",
            "Epoch 46/200\n",
            "20/20 [==============================] - 0s 4ms/step - loss: 0.4389 - accuracy: 0.7834 - val_loss: 0.4363 - val_accuracy: 0.8182\n",
            "Epoch 47/200\n",
            "20/20 [==============================] - 0s 5ms/step - loss: 0.4360 - accuracy: 0.7997 - val_loss: 0.4463 - val_accuracy: 0.7987\n",
            "Epoch 48/200\n",
            "20/20 [==============================] - 0s 4ms/step - loss: 0.4480 - accuracy: 0.7932 - val_loss: 0.4595 - val_accuracy: 0.8117\n",
            "Epoch 49/200\n",
            "20/20 [==============================] - 0s 4ms/step - loss: 0.4393 - accuracy: 0.7980 - val_loss: 0.4537 - val_accuracy: 0.8247\n",
            "Epoch 50/200\n",
            "20/20 [==============================] - 0s 4ms/step - loss: 0.4334 - accuracy: 0.7932 - val_loss: 0.4671 - val_accuracy: 0.7792\n",
            "Epoch 51/200\n",
            "20/20 [==============================] - 0s 4ms/step - loss: 0.4294 - accuracy: 0.7948 - val_loss: 0.4919 - val_accuracy: 0.7662\n",
            "Epoch 52/200\n",
            "20/20 [==============================] - 0s 4ms/step - loss: 0.4320 - accuracy: 0.7997 - val_loss: 0.4443 - val_accuracy: 0.7987\n",
            "Epoch 53/200\n",
            "20/20 [==============================] - 0s 4ms/step - loss: 0.4339 - accuracy: 0.7834 - val_loss: 0.4480 - val_accuracy: 0.7922\n",
            "Epoch 54/200\n",
            "20/20 [==============================] - 0s 5ms/step - loss: 0.4343 - accuracy: 0.7801 - val_loss: 0.4408 - val_accuracy: 0.8182\n",
            "Epoch 55/200\n",
            "20/20 [==============================] - 0s 4ms/step - loss: 0.4381 - accuracy: 0.7883 - val_loss: 0.4825 - val_accuracy: 0.8182\n",
            "Epoch 56/200\n",
            "20/20 [==============================] - 0s 4ms/step - loss: 0.4425 - accuracy: 0.7866 - val_loss: 0.4760 - val_accuracy: 0.8247\n",
            "Epoch 57/200\n",
            "20/20 [==============================] - 0s 4ms/step - loss: 0.4261 - accuracy: 0.7964 - val_loss: 0.4575 - val_accuracy: 0.7922\n",
            "Epoch 58/200\n",
            "20/20 [==============================] - 0s 5ms/step - loss: 0.4325 - accuracy: 0.7948 - val_loss: 0.4462 - val_accuracy: 0.8117\n",
            "Epoch 59/200\n",
            "20/20 [==============================] - 0s 4ms/step - loss: 0.4204 - accuracy: 0.8062 - val_loss: 0.4561 - val_accuracy: 0.7727\n",
            "Epoch 60/200\n",
            "20/20 [==============================] - 0s 5ms/step - loss: 0.4391 - accuracy: 0.7834 - val_loss: 0.4382 - val_accuracy: 0.7792\n",
            "Epoch 61/200\n",
            "20/20 [==============================] - 0s 4ms/step - loss: 0.4268 - accuracy: 0.7964 - val_loss: 0.4538 - val_accuracy: 0.8117\n",
            "Epoch 62/200\n",
            "20/20 [==============================] - 0s 5ms/step - loss: 0.4333 - accuracy: 0.7980 - val_loss: 0.4535 - val_accuracy: 0.8052\n",
            "Epoch 63/200\n",
            "20/20 [==============================] - 0s 4ms/step - loss: 0.4284 - accuracy: 0.7948 - val_loss: 0.4683 - val_accuracy: 0.8377\n",
            "Epoch 64/200\n",
            "20/20 [==============================] - 0s 4ms/step - loss: 0.4214 - accuracy: 0.7964 - val_loss: 0.4550 - val_accuracy: 0.8052\n",
            "Epoch 65/200\n",
            "20/20 [==============================] - 0s 4ms/step - loss: 0.4417 - accuracy: 0.7899 - val_loss: 0.4564 - val_accuracy: 0.8312\n",
            "Epoch 66/200\n",
            "20/20 [==============================] - 0s 5ms/step - loss: 0.4151 - accuracy: 0.8029 - val_loss: 0.4576 - val_accuracy: 0.8117\n",
            "Epoch 67/200\n",
            "20/20 [==============================] - 0s 4ms/step - loss: 0.4326 - accuracy: 0.7818 - val_loss: 0.4610 - val_accuracy: 0.8182\n",
            "Epoch 68/200\n",
            "20/20 [==============================] - 0s 4ms/step - loss: 0.4302 - accuracy: 0.7834 - val_loss: 0.4567 - val_accuracy: 0.8247\n",
            "Epoch 69/200\n",
            "20/20 [==============================] - 0s 5ms/step - loss: 0.4325 - accuracy: 0.7899 - val_loss: 0.4520 - val_accuracy: 0.7857\n",
            "Epoch 70/200\n",
            "20/20 [==============================] - 0s 5ms/step - loss: 0.4218 - accuracy: 0.7964 - val_loss: 0.4681 - val_accuracy: 0.8247\n",
            "Epoch 71/200\n",
            "20/20 [==============================] - 0s 4ms/step - loss: 0.4355 - accuracy: 0.7818 - val_loss: 0.4364 - val_accuracy: 0.8052\n",
            "Epoch 72/200\n",
            "20/20 [==============================] - 0s 4ms/step - loss: 0.4361 - accuracy: 0.7834 - val_loss: 0.4522 - val_accuracy: 0.8052\n",
            "Epoch 73/200\n",
            "20/20 [==============================] - 0s 5ms/step - loss: 0.4180 - accuracy: 0.7948 - val_loss: 0.4988 - val_accuracy: 0.7792\n",
            "Epoch 74/200\n",
            "20/20 [==============================] - 0s 4ms/step - loss: 0.4267 - accuracy: 0.7899 - val_loss: 0.4527 - val_accuracy: 0.7987\n",
            "Epoch 75/200\n",
            "20/20 [==============================] - 0s 4ms/step - loss: 0.4185 - accuracy: 0.7915 - val_loss: 0.4471 - val_accuracy: 0.8052\n",
            "Epoch 76/200\n",
            "20/20 [==============================] - 0s 5ms/step - loss: 0.4201 - accuracy: 0.7997 - val_loss: 0.4267 - val_accuracy: 0.7987\n",
            "Epoch 77/200\n",
            "20/20 [==============================] - 0s 4ms/step - loss: 0.4169 - accuracy: 0.8078 - val_loss: 0.4359 - val_accuracy: 0.8312\n",
            "Epoch 78/200\n",
            "20/20 [==============================] - 0s 4ms/step - loss: 0.4129 - accuracy: 0.8094 - val_loss: 0.4652 - val_accuracy: 0.8052\n",
            "Epoch 79/200\n",
            "20/20 [==============================] - 0s 4ms/step - loss: 0.4191 - accuracy: 0.7997 - val_loss: 0.4450 - val_accuracy: 0.8182\n",
            "Epoch 80/200\n",
            "20/20 [==============================] - 0s 4ms/step - loss: 0.4171 - accuracy: 0.7964 - val_loss: 0.4520 - val_accuracy: 0.7987\n",
            "Epoch 81/200\n",
            "20/20 [==============================] - 0s 5ms/step - loss: 0.4077 - accuracy: 0.7980 - val_loss: 0.4248 - val_accuracy: 0.7987\n",
            "Epoch 82/200\n",
            "20/20 [==============================] - 0s 4ms/step - loss: 0.4263 - accuracy: 0.7866 - val_loss: 0.4605 - val_accuracy: 0.7922\n",
            "Epoch 83/200\n",
            "20/20 [==============================] - 0s 4ms/step - loss: 0.4141 - accuracy: 0.8013 - val_loss: 0.4644 - val_accuracy: 0.8247\n",
            "Epoch 84/200\n",
            "20/20 [==============================] - 0s 4ms/step - loss: 0.3997 - accuracy: 0.8078 - val_loss: 0.4440 - val_accuracy: 0.8052\n",
            "Epoch 85/200\n",
            "20/20 [==============================] - 0s 4ms/step - loss: 0.4191 - accuracy: 0.8094 - val_loss: 0.4503 - val_accuracy: 0.8117\n",
            "Epoch 86/200\n",
            "20/20 [==============================] - 0s 6ms/step - loss: 0.4252 - accuracy: 0.7964 - val_loss: 0.4506 - val_accuracy: 0.8117\n",
            "Epoch 87/200\n",
            "20/20 [==============================] - 0s 6ms/step - loss: 0.4125 - accuracy: 0.8078 - val_loss: 0.4501 - val_accuracy: 0.7987\n",
            "Epoch 88/200\n",
            "20/20 [==============================] - 0s 6ms/step - loss: 0.4136 - accuracy: 0.8029 - val_loss: 0.4543 - val_accuracy: 0.8117\n",
            "Epoch 89/200\n",
            "20/20 [==============================] - 0s 6ms/step - loss: 0.4217 - accuracy: 0.7964 - val_loss: 0.4797 - val_accuracy: 0.8182\n",
            "Epoch 90/200\n",
            "20/20 [==============================] - 0s 8ms/step - loss: 0.4260 - accuracy: 0.7834 - val_loss: 0.4491 - val_accuracy: 0.8182\n",
            "Epoch 91/200\n",
            "20/20 [==============================] - 0s 6ms/step - loss: 0.4105 - accuracy: 0.8208 - val_loss: 0.4335 - val_accuracy: 0.8117\n",
            "Epoch 92/200\n",
            "20/20 [==============================] - 0s 6ms/step - loss: 0.4100 - accuracy: 0.8192 - val_loss: 0.4420 - val_accuracy: 0.7987\n",
            "Epoch 93/200\n",
            "20/20 [==============================] - 0s 6ms/step - loss: 0.4066 - accuracy: 0.8078 - val_loss: 0.4566 - val_accuracy: 0.8052\n",
            "Epoch 94/200\n",
            "20/20 [==============================] - 0s 6ms/step - loss: 0.4269 - accuracy: 0.7980 - val_loss: 0.4402 - val_accuracy: 0.8052\n",
            "Epoch 95/200\n",
            "20/20 [==============================] - 0s 7ms/step - loss: 0.4192 - accuracy: 0.7964 - val_loss: 0.4491 - val_accuracy: 0.7922\n",
            "Epoch 96/200\n",
            "20/20 [==============================] - 0s 6ms/step - loss: 0.4027 - accuracy: 0.8111 - val_loss: 0.4473 - val_accuracy: 0.8247\n",
            "Epoch 97/200\n",
            "20/20 [==============================] - 0s 7ms/step - loss: 0.3983 - accuracy: 0.8046 - val_loss: 0.4383 - val_accuracy: 0.7792\n",
            "Epoch 98/200\n",
            "20/20 [==============================] - 0s 7ms/step - loss: 0.4019 - accuracy: 0.8062 - val_loss: 0.4695 - val_accuracy: 0.8182\n",
            "Epoch 99/200\n",
            "20/20 [==============================] - 0s 7ms/step - loss: 0.4162 - accuracy: 0.8111 - val_loss: 0.4766 - val_accuracy: 0.7987\n",
            "Epoch 100/200\n",
            "20/20 [==============================] - 0s 6ms/step - loss: 0.4034 - accuracy: 0.8046 - val_loss: 0.4494 - val_accuracy: 0.7922\n",
            "Epoch 101/200\n",
            "20/20 [==============================] - 0s 7ms/step - loss: 0.4191 - accuracy: 0.8013 - val_loss: 0.4641 - val_accuracy: 0.8182\n",
            "Epoch 102/200\n",
            "20/20 [==============================] - 0s 7ms/step - loss: 0.4089 - accuracy: 0.8111 - val_loss: 0.4589 - val_accuracy: 0.7857\n",
            "Epoch 103/200\n",
            "20/20 [==============================] - 0s 6ms/step - loss: 0.3930 - accuracy: 0.8257 - val_loss: 0.4601 - val_accuracy: 0.7987\n",
            "Epoch 104/200\n",
            "20/20 [==============================] - 0s 5ms/step - loss: 0.4081 - accuracy: 0.7948 - val_loss: 0.4509 - val_accuracy: 0.7987\n",
            "Epoch 105/200\n",
            "20/20 [==============================] - 0s 4ms/step - loss: 0.4192 - accuracy: 0.8046 - val_loss: 0.4471 - val_accuracy: 0.7987\n",
            "Epoch 106/200\n",
            "20/20 [==============================] - 0s 5ms/step - loss: 0.4067 - accuracy: 0.8029 - val_loss: 0.4987 - val_accuracy: 0.8052\n",
            "Epoch 107/200\n",
            "20/20 [==============================] - 0s 5ms/step - loss: 0.4069 - accuracy: 0.8094 - val_loss: 0.4643 - val_accuracy: 0.8117\n",
            "Epoch 108/200\n",
            "20/20 [==============================] - 0s 4ms/step - loss: 0.4050 - accuracy: 0.7948 - val_loss: 0.4926 - val_accuracy: 0.8182\n",
            "Epoch 109/200\n",
            "20/20 [==============================] - 0s 4ms/step - loss: 0.4175 - accuracy: 0.8013 - val_loss: 0.4655 - val_accuracy: 0.8247\n",
            "Epoch 110/200\n",
            "20/20 [==============================] - 0s 4ms/step - loss: 0.3968 - accuracy: 0.8111 - val_loss: 0.4309 - val_accuracy: 0.7987\n",
            "Epoch 111/200\n",
            "20/20 [==============================] - 0s 4ms/step - loss: 0.3918 - accuracy: 0.8029 - val_loss: 0.4424 - val_accuracy: 0.7987\n",
            "Epoch 112/200\n",
            "20/20 [==============================] - 0s 5ms/step - loss: 0.4031 - accuracy: 0.8192 - val_loss: 0.4588 - val_accuracy: 0.7857\n",
            "Epoch 113/200\n",
            "20/20 [==============================] - 0s 4ms/step - loss: 0.4037 - accuracy: 0.7932 - val_loss: 0.4698 - val_accuracy: 0.7987\n",
            "Epoch 114/200\n",
            "20/20 [==============================] - 0s 5ms/step - loss: 0.3981 - accuracy: 0.8192 - val_loss: 0.4915 - val_accuracy: 0.7922\n",
            "Epoch 115/200\n",
            "20/20 [==============================] - 0s 4ms/step - loss: 0.3989 - accuracy: 0.8176 - val_loss: 0.4558 - val_accuracy: 0.8052\n",
            "Epoch 116/200\n",
            "20/20 [==============================] - 0s 4ms/step - loss: 0.3875 - accuracy: 0.8306 - val_loss: 0.4510 - val_accuracy: 0.7922\n",
            "Epoch 117/200\n",
            "20/20 [==============================] - 0s 5ms/step - loss: 0.3904 - accuracy: 0.8257 - val_loss: 0.4624 - val_accuracy: 0.7922\n",
            "Epoch 118/200\n",
            "20/20 [==============================] - 0s 4ms/step - loss: 0.3973 - accuracy: 0.8111 - val_loss: 0.4750 - val_accuracy: 0.8312\n",
            "Epoch 119/200\n",
            "20/20 [==============================] - 0s 4ms/step - loss: 0.3976 - accuracy: 0.8143 - val_loss: 0.4921 - val_accuracy: 0.8247\n",
            "Epoch 120/200\n",
            "20/20 [==============================] - 0s 4ms/step - loss: 0.3924 - accuracy: 0.8078 - val_loss: 0.4680 - val_accuracy: 0.8052\n",
            "Epoch 121/200\n",
            "20/20 [==============================] - 0s 5ms/step - loss: 0.4049 - accuracy: 0.8306 - val_loss: 0.4690 - val_accuracy: 0.8182\n",
            "Epoch 122/200\n",
            "20/20 [==============================] - 0s 5ms/step - loss: 0.3876 - accuracy: 0.8192 - val_loss: 0.4703 - val_accuracy: 0.8182\n",
            "Epoch 123/200\n",
            "20/20 [==============================] - 0s 4ms/step - loss: 0.3925 - accuracy: 0.8046 - val_loss: 0.4629 - val_accuracy: 0.7532\n",
            "Epoch 124/200\n",
            "20/20 [==============================] - 0s 4ms/step - loss: 0.3971 - accuracy: 0.8160 - val_loss: 0.4856 - val_accuracy: 0.8247\n",
            "Epoch 125/200\n",
            "20/20 [==============================] - 0s 5ms/step - loss: 0.3800 - accuracy: 0.8062 - val_loss: 0.5036 - val_accuracy: 0.7597\n",
            "Epoch 126/200\n",
            "20/20 [==============================] - 0s 5ms/step - loss: 0.3832 - accuracy: 0.8322 - val_loss: 0.4743 - val_accuracy: 0.7922\n",
            "Epoch 127/200\n",
            "20/20 [==============================] - 0s 4ms/step - loss: 0.3804 - accuracy: 0.8257 - val_loss: 0.4928 - val_accuracy: 0.7987\n",
            "Epoch 128/200\n",
            "20/20 [==============================] - 0s 5ms/step - loss: 0.3951 - accuracy: 0.7948 - val_loss: 0.4777 - val_accuracy: 0.7857\n",
            "Epoch 129/200\n",
            "20/20 [==============================] - 0s 4ms/step - loss: 0.3909 - accuracy: 0.8208 - val_loss: 0.4894 - val_accuracy: 0.8117\n",
            "Epoch 130/200\n",
            "20/20 [==============================] - 0s 4ms/step - loss: 0.3882 - accuracy: 0.8176 - val_loss: 0.4849 - val_accuracy: 0.8052\n",
            "Epoch 131/200\n",
            "20/20 [==============================] - 0s 4ms/step - loss: 0.4027 - accuracy: 0.8160 - val_loss: 0.4935 - val_accuracy: 0.8247\n",
            "Epoch 132/200\n",
            "20/20 [==============================] - 0s 5ms/step - loss: 0.3779 - accuracy: 0.8208 - val_loss: 0.4796 - val_accuracy: 0.8117\n",
            "Epoch 133/200\n",
            "20/20 [==============================] - 0s 4ms/step - loss: 0.3928 - accuracy: 0.8176 - val_loss: 0.5029 - val_accuracy: 0.7987\n",
            "Epoch 134/200\n",
            "20/20 [==============================] - 0s 4ms/step - loss: 0.3727 - accuracy: 0.8290 - val_loss: 0.4683 - val_accuracy: 0.7922\n",
            "Epoch 135/200\n",
            "20/20 [==============================] - 0s 5ms/step - loss: 0.3855 - accuracy: 0.8208 - val_loss: 0.4579 - val_accuracy: 0.7727\n",
            "Epoch 136/200\n",
            "20/20 [==============================] - 0s 5ms/step - loss: 0.3865 - accuracy: 0.8192 - val_loss: 0.4833 - val_accuracy: 0.8247\n",
            "Epoch 137/200\n",
            "20/20 [==============================] - 0s 4ms/step - loss: 0.3945 - accuracy: 0.8013 - val_loss: 0.4852 - val_accuracy: 0.7987\n",
            "Epoch 138/200\n",
            "20/20 [==============================] - 0s 4ms/step - loss: 0.3904 - accuracy: 0.8241 - val_loss: 0.4885 - val_accuracy: 0.7792\n",
            "Epoch 139/200\n",
            "20/20 [==============================] - 0s 6ms/step - loss: 0.3719 - accuracy: 0.8127 - val_loss: 0.4868 - val_accuracy: 0.7987\n",
            "Epoch 140/200\n",
            "20/20 [==============================] - 0s 6ms/step - loss: 0.3761 - accuracy: 0.8062 - val_loss: 0.5072 - val_accuracy: 0.8052\n",
            "Epoch 141/200\n",
            "20/20 [==============================] - 0s 6ms/step - loss: 0.3693 - accuracy: 0.8420 - val_loss: 0.4981 - val_accuracy: 0.8052\n",
            "Epoch 142/200\n",
            "20/20 [==============================] - 0s 4ms/step - loss: 0.3737 - accuracy: 0.8176 - val_loss: 0.4935 - val_accuracy: 0.7597\n",
            "Epoch 143/200\n",
            "20/20 [==============================] - 0s 5ms/step - loss: 0.3825 - accuracy: 0.8208 - val_loss: 0.4825 - val_accuracy: 0.7857\n",
            "Epoch 144/200\n",
            "20/20 [==============================] - 0s 4ms/step - loss: 0.3827 - accuracy: 0.8192 - val_loss: 0.4937 - val_accuracy: 0.7922\n",
            "Epoch 145/200\n",
            "20/20 [==============================] - 0s 5ms/step - loss: 0.3658 - accuracy: 0.8355 - val_loss: 0.4776 - val_accuracy: 0.7922\n",
            "Epoch 146/200\n",
            "20/20 [==============================] - 0s 5ms/step - loss: 0.3773 - accuracy: 0.8241 - val_loss: 0.4752 - val_accuracy: 0.7792\n",
            "Epoch 147/200\n",
            "20/20 [==============================] - 0s 5ms/step - loss: 0.3683 - accuracy: 0.8225 - val_loss: 0.4824 - val_accuracy: 0.7727\n",
            "Epoch 148/200\n",
            "20/20 [==============================] - 0s 6ms/step - loss: 0.3705 - accuracy: 0.8208 - val_loss: 0.4844 - val_accuracy: 0.7727\n",
            "Epoch 149/200\n",
            "20/20 [==============================] - 0s 5ms/step - loss: 0.3696 - accuracy: 0.8290 - val_loss: 0.4760 - val_accuracy: 0.7792\n",
            "Epoch 150/200\n",
            "20/20 [==============================] - 0s 6ms/step - loss: 0.3659 - accuracy: 0.8290 - val_loss: 0.4850 - val_accuracy: 0.7987\n",
            "Epoch 151/200\n",
            "20/20 [==============================] - 0s 5ms/step - loss: 0.3715 - accuracy: 0.8274 - val_loss: 0.4976 - val_accuracy: 0.7987\n",
            "Epoch 152/200\n",
            "20/20 [==============================] - 0s 5ms/step - loss: 0.3895 - accuracy: 0.8192 - val_loss: 0.4913 - val_accuracy: 0.7922\n",
            "Epoch 153/200\n",
            "20/20 [==============================] - 0s 5ms/step - loss: 0.3683 - accuracy: 0.8290 - val_loss: 0.5088 - val_accuracy: 0.8117\n",
            "Epoch 154/200\n",
            "20/20 [==============================] - 0s 4ms/step - loss: 0.3631 - accuracy: 0.8404 - val_loss: 0.5285 - val_accuracy: 0.7857\n",
            "Epoch 155/200\n",
            "20/20 [==============================] - 0s 5ms/step - loss: 0.3695 - accuracy: 0.8241 - val_loss: 0.4794 - val_accuracy: 0.7662\n",
            "Epoch 156/200\n",
            "20/20 [==============================] - 0s 5ms/step - loss: 0.3767 - accuracy: 0.8322 - val_loss: 0.4970 - val_accuracy: 0.7857\n",
            "Epoch 157/200\n",
            "20/20 [==============================] - 0s 4ms/step - loss: 0.3549 - accuracy: 0.8518 - val_loss: 0.5097 - val_accuracy: 0.7792\n",
            "Epoch 158/200\n",
            "20/20 [==============================] - 0s 5ms/step - loss: 0.3482 - accuracy: 0.8355 - val_loss: 0.5110 - val_accuracy: 0.7922\n",
            "Epoch 159/200\n",
            "20/20 [==============================] - 0s 5ms/step - loss: 0.3699 - accuracy: 0.8371 - val_loss: 0.5173 - val_accuracy: 0.7857\n",
            "Epoch 160/200\n",
            "20/20 [==============================] - 0s 6ms/step - loss: 0.3609 - accuracy: 0.8371 - val_loss: 0.5118 - val_accuracy: 0.7857\n",
            "Epoch 161/200\n",
            "20/20 [==============================] - 0s 5ms/step - loss: 0.3610 - accuracy: 0.8306 - val_loss: 0.5013 - val_accuracy: 0.7792\n",
            "Epoch 162/200\n",
            "20/20 [==============================] - 0s 4ms/step - loss: 0.3708 - accuracy: 0.8290 - val_loss: 0.5341 - val_accuracy: 0.7857\n",
            "Epoch 163/200\n",
            "20/20 [==============================] - 0s 5ms/step - loss: 0.3590 - accuracy: 0.8404 - val_loss: 0.5434 - val_accuracy: 0.8052\n",
            "Epoch 164/200\n",
            "20/20 [==============================] - 0s 5ms/step - loss: 0.3587 - accuracy: 0.8404 - val_loss: 0.5038 - val_accuracy: 0.7727\n",
            "Epoch 165/200\n",
            "20/20 [==============================] - 0s 4ms/step - loss: 0.3586 - accuracy: 0.8290 - val_loss: 0.5364 - val_accuracy: 0.7922\n",
            "Epoch 166/200\n",
            "20/20 [==============================] - 0s 4ms/step - loss: 0.3511 - accuracy: 0.8339 - val_loss: 0.4955 - val_accuracy: 0.7792\n",
            "Epoch 167/200\n",
            "20/20 [==============================] - 0s 4ms/step - loss: 0.3570 - accuracy: 0.8388 - val_loss: 0.5463 - val_accuracy: 0.7922\n",
            "Epoch 168/200\n",
            "20/20 [==============================] - 0s 4ms/step - loss: 0.3520 - accuracy: 0.8371 - val_loss: 0.5302 - val_accuracy: 0.7857\n",
            "Epoch 169/200\n",
            "20/20 [==============================] - 0s 5ms/step - loss: 0.3442 - accuracy: 0.8404 - val_loss: 0.5410 - val_accuracy: 0.7792\n",
            "Epoch 170/200\n",
            "20/20 [==============================] - 0s 5ms/step - loss: 0.3565 - accuracy: 0.8436 - val_loss: 0.5352 - val_accuracy: 0.8052\n",
            "Epoch 171/200\n",
            "20/20 [==============================] - 0s 5ms/step - loss: 0.3603 - accuracy: 0.8339 - val_loss: 0.5444 - val_accuracy: 0.7857\n",
            "Epoch 172/200\n",
            "20/20 [==============================] - 0s 5ms/step - loss: 0.3689 - accuracy: 0.8371 - val_loss: 0.5111 - val_accuracy: 0.7922\n",
            "Epoch 173/200\n",
            "20/20 [==============================] - 0s 5ms/step - loss: 0.3553 - accuracy: 0.8388 - val_loss: 0.5165 - val_accuracy: 0.7922\n",
            "Epoch 174/200\n",
            "20/20 [==============================] - 0s 5ms/step - loss: 0.3643 - accuracy: 0.8355 - val_loss: 0.5522 - val_accuracy: 0.7727\n",
            "Epoch 175/200\n",
            "20/20 [==============================] - 0s 5ms/step - loss: 0.3539 - accuracy: 0.8322 - val_loss: 0.5222 - val_accuracy: 0.7987\n",
            "Epoch 176/200\n",
            "20/20 [==============================] - 0s 4ms/step - loss: 0.3694 - accuracy: 0.8404 - val_loss: 0.5128 - val_accuracy: 0.7662\n",
            "Epoch 177/200\n",
            "20/20 [==============================] - 0s 4ms/step - loss: 0.3554 - accuracy: 0.8420 - val_loss: 0.5045 - val_accuracy: 0.7922\n",
            "Epoch 178/200\n",
            "20/20 [==============================] - 0s 4ms/step - loss: 0.3435 - accuracy: 0.8534 - val_loss: 0.5570 - val_accuracy: 0.7987\n",
            "Epoch 179/200\n",
            "20/20 [==============================] - 0s 5ms/step - loss: 0.3644 - accuracy: 0.8534 - val_loss: 0.5339 - val_accuracy: 0.7857\n",
            "Epoch 180/200\n",
            "20/20 [==============================] - 0s 5ms/step - loss: 0.3518 - accuracy: 0.8485 - val_loss: 0.5229 - val_accuracy: 0.7662\n",
            "Epoch 181/200\n",
            "20/20 [==============================] - 0s 4ms/step - loss: 0.3424 - accuracy: 0.8306 - val_loss: 0.5177 - val_accuracy: 0.7922\n",
            "Epoch 182/200\n",
            "20/20 [==============================] - 0s 5ms/step - loss: 0.3448 - accuracy: 0.8534 - val_loss: 0.5214 - val_accuracy: 0.7727\n",
            "Epoch 183/200\n",
            "20/20 [==============================] - 0s 4ms/step - loss: 0.3317 - accuracy: 0.8518 - val_loss: 0.5418 - val_accuracy: 0.7857\n",
            "Epoch 184/200\n",
            "20/20 [==============================] - 0s 4ms/step - loss: 0.3562 - accuracy: 0.8290 - val_loss: 0.5238 - val_accuracy: 0.7597\n",
            "Epoch 185/200\n",
            "20/20 [==============================] - 0s 4ms/step - loss: 0.3635 - accuracy: 0.8388 - val_loss: 0.5575 - val_accuracy: 0.7857\n",
            "Epoch 186/200\n",
            "20/20 [==============================] - 0s 4ms/step - loss: 0.3409 - accuracy: 0.8371 - val_loss: 0.5703 - val_accuracy: 0.7922\n",
            "Epoch 187/200\n",
            "20/20 [==============================] - 0s 4ms/step - loss: 0.3632 - accuracy: 0.8388 - val_loss: 0.5522 - val_accuracy: 0.7727\n",
            "Epoch 188/200\n",
            "20/20 [==============================] - 0s 4ms/step - loss: 0.3530 - accuracy: 0.8274 - val_loss: 0.4952 - val_accuracy: 0.7727\n",
            "Epoch 189/200\n",
            "20/20 [==============================] - 0s 4ms/step - loss: 0.3444 - accuracy: 0.8534 - val_loss: 0.5607 - val_accuracy: 0.7922\n",
            "Epoch 190/200\n",
            "20/20 [==============================] - 0s 5ms/step - loss: 0.3413 - accuracy: 0.8485 - val_loss: 0.5422 - val_accuracy: 0.7597\n",
            "Epoch 191/200\n",
            "20/20 [==============================] - 0s 4ms/step - loss: 0.3429 - accuracy: 0.8371 - val_loss: 0.5213 - val_accuracy: 0.7532\n",
            "Epoch 192/200\n",
            "20/20 [==============================] - 0s 4ms/step - loss: 0.3241 - accuracy: 0.8632 - val_loss: 0.5265 - val_accuracy: 0.7727\n",
            "Epoch 193/200\n",
            "20/20 [==============================] - 0s 5ms/step - loss: 0.3364 - accuracy: 0.8697 - val_loss: 0.5216 - val_accuracy: 0.7532\n",
            "Epoch 194/200\n",
            "20/20 [==============================] - 0s 4ms/step - loss: 0.3303 - accuracy: 0.8583 - val_loss: 0.5688 - val_accuracy: 0.7857\n",
            "Epoch 195/200\n",
            "20/20 [==============================] - 0s 4ms/step - loss: 0.3574 - accuracy: 0.8436 - val_loss: 0.5356 - val_accuracy: 0.7597\n",
            "Epoch 196/200\n",
            "20/20 [==============================] - 0s 4ms/step - loss: 0.3566 - accuracy: 0.8274 - val_loss: 0.5485 - val_accuracy: 0.7532\n",
            "Epoch 197/200\n",
            "20/20 [==============================] - 0s 5ms/step - loss: 0.3417 - accuracy: 0.8469 - val_loss: 0.5661 - val_accuracy: 0.7792\n",
            "Epoch 198/200\n",
            "20/20 [==============================] - 0s 5ms/step - loss: 0.3568 - accuracy: 0.8306 - val_loss: 0.5345 - val_accuracy: 0.7727\n",
            "Epoch 199/200\n",
            "20/20 [==============================] - 0s 4ms/step - loss: 0.3407 - accuracy: 0.8404 - val_loss: 0.5580 - val_accuracy: 0.7857\n",
            "Epoch 200/200\n",
            "20/20 [==============================] - 0s 4ms/step - loss: 0.3463 - accuracy: 0.8388 - val_loss: 0.5054 - val_accuracy: 0.7857\n"
          ]
        },
        {
          "output_type": "execute_result",
          "data": {
            "text/plain": [
              "<keras.src.callbacks.History at 0x7f52fbab97e0>"
            ]
          },
          "metadata": {},
          "execution_count": 82
        }
      ]
    },
    {
      "cell_type": "code",
      "source": [],
      "metadata": {
        "id": "zUN8HX_qpqFg"
      },
      "execution_count": null,
      "outputs": []
    }
  ]
}